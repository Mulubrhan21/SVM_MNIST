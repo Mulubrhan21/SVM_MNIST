{
 "cells": [
  {
   "cell_type": "code",
   "execution_count": null,
   "id": "47415802-2627-4442-8601-01d502c27508",
   "metadata": {},
   "outputs": [],
   "source": [
    "#This is lab Report for the 5th lab session. The comparsion of KNN, SDG and Random Forest taking palce at Colab."
   ]
  },
  {
   "cell_type": "code",
   "execution_count": null,
   "id": "4f87a55c-e462-4b85-a582-b835d62fc68c",
   "metadata": {},
   "outputs": [],
   "source": [
    "##Step 1_ Import necessary Libraries"
   ]
  },
  {
   "cell_type": "code",
   "execution_count": 1,
   "id": "7a3df6d6-7491-4a2e-9484-ac05b837f694",
   "metadata": {},
   "outputs": [],
   "source": [
    "# Import libraries\n",
    "import numpy as np\n",
    "import pandas as pd\n",
    "from sklearn import datasets\n",
    "from sklearn.model_selection import train_test_split, GridSearchCV, RandomizedSearchCV\n",
    "from sklearn.preprocessing import StandardScaler\n",
    "from sklearn.svm import SVC\n",
    "from sklearn.metrics import accuracy_score, precision_score, recall_score, f1_score, classification_report, confusion_matrix\n",
    "import matplotlib.pyplot as plt\n",
    "import seaborn as sns\n",
    "from time import time\n",
    "from sklearn.datasets import fetch_openml\n",
    "from sklearn.model_selection import train_test_split\n",
    "from sklearn.neighbors import KNeighborsClassifier\n",
    "from sklearn.linear_model import SGDClassifier\n",
    "from sklearn.ensemble import RandomForestClassifier\n"
   ]
  },
  {
   "cell_type": "code",
   "execution_count": null,
   "id": "f650610f-4d0c-4731-babb-8a893fbf2e69",
   "metadata": {},
   "outputs": [],
   "source": [
    "##Step 2: Load and Prepare Dataset-MNIST"
   ]
  },
  {
   "cell_type": "code",
   "execution_count": 4,
   "id": "c98bd29f-ef8d-42a7-a282-d177f0b72184",
   "metadata": {},
   "outputs": [
    {
     "name": "stderr",
     "output_type": "stream",
     "text": [
      "C:\\Anaconda\\envs\\homl3\\lib\\site-packages\\sklearn\\datasets\\_openml.py:1022: FutureWarning: The default value of `parser` will change from `'liac-arff'` to `'auto'` in 1.4. You can set `parser='auto'` to silence this warning. Therefore, an `ImportError` will be raised from 1.4 if the dataset is dense and pandas is not installed. Note that the pandas parser may return different data types. See the Notes Section in fetch_openml's API doc for details.\n",
      "  warn(\n"
     ]
    }
   ],
   "source": [
    "# Step 1: Loading and preparing the MNIST dataset\n",
    "mnist = fetch_openml('mnist_784', version=1)\n",
    "X, y = mnist[\"data\"], mnist[\"target\"]\n",
    "y = y.astype(int)\n",
    "\n",
    "# Split the dataset into train and test sets with stratification\n",
    "X_train, X_test, y_train, y_test = train_test_split(X, y, test_size=0.2, random_state=42, stratify=y)\n",
    "\n",
    "# Standardize the data\n",
    "scaler = StandardScaler()\n",
    "X_train_scaled = scaler.fit_transform(X_train.astype(float))\n",
    "X_test_scaled = scaler.transform(X_test.astype(float))\n",
    "\n",
    "# Step 2: Use Stratified Sampling to create a smaller training set\n",
    "stratified_split = StratifiedShuffleSplit(n_splits=1, test_size=20000, random_state=42)\n",
    "\n",
    "for train_idx, small_train_idx in stratified_split.split(X_train_scaled, y_train):\n",
    "    X_train_small = X_train_scaled[small_train_idx]\n",
    "    y_train_small = y_train[small_train_idx]"
   ]
  },
  {
   "cell_type": "code",
   "execution_count": null,
   "id": "71fca732-f07c-4c86-a6d8-cdd01af48bd3",
   "metadata": {},
   "outputs": [],
   "source": [
    "##Step 3: Train SVM with Different Kernels"
   ]
  },
  {
   "cell_type": "code",
   "execution_count": null,
   "id": "aea67240-d94f-47a7-a1c4-c442b946267d",
   "metadata": {},
   "outputs": [],
   "source": [
    "##3.1: SVM with Linear Kernel"
   ]
  },
  {
   "cell_type": "code",
   "execution_count": 5,
   "id": "fdc49d23-f15f-48e5-b060-0f5d4cc32c90",
   "metadata": {},
   "outputs": [
    {
     "name": "stderr",
     "output_type": "stream",
     "text": [
      "C:\\Anaconda\\envs\\homl3\\lib\\site-packages\\sklearn\\model_selection\\_search.py:307: UserWarning: The total space of parameters 4 is smaller than n_iter=10. Running 4 iterations. For exhaustive searches, use GridSearchCV.\n",
      "  warnings.warn(\n"
     ]
    },
    {
     "name": "stdout",
     "output_type": "stream",
     "text": [
      "Best Linear Kernel Params: {'C': 0.01}\n",
      "Best Cross-validation Accuracy (Linear Kernel): 0.9319999999999998\n"
     ]
    }
   ],
   "source": [
    "# SVM with Linear Kernel\n",
    "svm_linear = SVC(kernel='linear')\n",
    "param_distribs_linear = {'C': [0.01, 0.1, 1, 10]}\n",
    "rnd_search_linear = RandomizedSearchCV(svm_linear, param_distributions=param_distribs_linear, n_iter=10, cv=5, scoring='accuracy', random_state=42)\n",
    "rnd_search_linear.fit(X_train_small, y_train_small)\n",
    "print(\"Best Linear Kernel Params:\", rnd_search_linear.best_params_)\n",
    "print(\"Best Cross-validation Accuracy (Linear Kernel):\", rnd_search_linear.best_score_)\n"
   ]
  },
  {
   "cell_type": "code",
   "execution_count": 6,
   "id": "d1214b38-7d56-4ea5-8566-fcbd5e7973b6",
   "metadata": {},
   "outputs": [
    {
     "name": "stdout",
     "output_type": "stream",
     "text": [
      "Best Polynomial Kernel Params: {'degree': 2, 'coef0': 0.1, 'C': 1}\n",
      "Best Cross-validation Accuracy (Poly Kernel): 0.96235\n"
     ]
    }
   ],
   "source": [
    "# SVM with Polynomial Kernel\n",
    "svm_poly = SVC(kernel='poly')\n",
    "param_distribs_poly = {'degree': [2, 3, 4], 'C': [0.01, 0.1, 1], 'coef0': [0, 0.1, 1]}\n",
    "rnd_search_poly = RandomizedSearchCV(svm_poly, param_distributions=param_distribs_poly, n_iter=5, cv=5, scoring='accuracy', random_state=42)\n",
    "rnd_search_poly.fit(X_train_small, y_train_small)\n",
    "print(\"Best Polynomial Kernel Params:\", rnd_search_poly.best_params_)\n",
    "print(\"Best Cross-validation Accuracy (Poly Kernel):\", rnd_search_poly.best_score_)"
   ]
  },
  {
   "cell_type": "code",
   "execution_count": 7,
   "id": "0db91fb7-f50a-4ade-8ece-91fd9213d31a",
   "metadata": {},
   "outputs": [
    {
     "name": "stdout",
     "output_type": "stream",
     "text": [
      "Best RBF Kernel Params: {'gamma': 0.01, 'C': 1}\n",
      "Best Cross-validation Accuracy (RBF Kernel): 0.78755\n"
     ]
    }
   ],
   "source": [
    "# SVM with RBF Kernel\n",
    "svm_rbf = SVC(kernel='rbf')\n",
    "param_distribs_rbf = {'C': [0.01, 0.1, 1], 'gamma': [0.001, 0.01, 0.1]}\n",
    "rnd_search_rbf = RandomizedSearchCV(svm_rbf, param_distributions=param_distribs_rbf, n_iter=5, cv=5, scoring='accuracy', random_state=42)\n",
    "rnd_search_rbf.fit(X_train_small, y_train_small)\n",
    "print(\"Best RBF Kernel Params:\", rnd_search_rbf.best_params_)\n",
    "print(\"Best Cross-validation Accuracy (RBF Kernel):\", rnd_search_rbf.best_score_)"
   ]
  },
  {
   "cell_type": "code",
   "execution_count": null,
   "id": "ba7f4663-28b3-45d1-b8f9-6c8ab03ff567",
   "metadata": {},
   "outputs": [],
   "source": [
    "# Step 3: Evaluating the SVM models on the full test set"
   ]
  },
  {
   "cell_type": "code",
   "execution_count": 8,
   "id": "5e15955e-1c26-4ef2-92a4-c0f8ad7a753f",
   "metadata": {},
   "outputs": [
    {
     "name": "stdout",
     "output_type": "stream",
     "text": [
      "\n",
      "Metrics for Polynomial SVM:\n",
      "Accuracy: 0.9643571428571428\n",
      "Precision: 0.9642625483105375\n",
      "Recall: 0.9641776335001158\n",
      "F1 Score: 0.9642005678599921\n",
      "\n",
      "Metrics for RBF SVM:\n",
      "Accuracy: 0.7975\n",
      "Precision: 0.9095640656410193\n",
      "Recall: 0.794886686676984\n",
      "F1 Score: 0.8249618768282273\n",
      "\n",
      "Metrics for Linear SVM:\n",
      "Accuracy: 0.933\n",
      "Precision: 0.9326670149847098\n",
      "Recall: 0.9320346318218352\n",
      "F1 Score: 0.932156768450046\n"
     ]
    }
   ],
   "source": [
    "# Step 3: Evaluating the SVM models on the full test set\n",
    "svm_best_poly = rnd_search_poly.best_estimator_\n",
    "svm_best_rbf = rnd_search_rbf.best_estimator_\n",
    "svm_best_linear = rnd_search_linear.best_estimator_\n",
    "\n",
    "y_pred_poly = svm_best_poly.predict(X_test_scaled)\n",
    "y_pred_rbf = svm_best_rbf.predict(X_test_scaled)\n",
    "y_pred_linear = svm_best_linear.predict(X_test_scaled)\n",
    "\n",
    "def print_metrics(y_true, y_pred, model_name):\n",
    "    print(f\"\\nMetrics for {model_name}:\")\n",
    "    print(\"Accuracy:\", accuracy_score(y_true, y_pred))\n",
    "    print(\"Precision:\", precision_score(y_true, y_pred, average='macro'))\n",
    "    print(\"Recall:\", recall_score(y_true, y_pred, average='macro'))\n",
    "    print(\"F1 Score:\", f1_score(y_true, y_pred, average='macro'))\n",
    "\n",
    "print_metrics(y_test, y_pred_poly, \"Polynomial SVM\")\n",
    "print_metrics(y_test, y_pred_rbf, \"RBF SVM\")\n",
    "print_metrics(y_test, y_pred_linear, \"Linear SVM\")"
   ]
  },
  {
   "cell_type": "code",
   "execution_count": null,
   "id": "8bedd32f-2d73-4fea-b98f-6903fbe65a5e",
   "metadata": {},
   "outputs": [],
   "source": [
    "##3.2: SVM with Polynomial Kernel"
   ]
  },
  {
   "cell_type": "code",
   "execution_count": null,
   "id": "1548a602-e997-4176-bbbb-9998ae7202f0",
   "metadata": {},
   "outputs": [],
   "source": [
    "##3.3: SVM with RBF Kernel"
   ]
  },
  {
   "cell_type": "code",
   "execution_count": null,
   "id": "ff3c7f44-1fa4-463d-8772-88f718b88374",
   "metadata": {},
   "outputs": [],
   "source": [
    "##Step 4: Evaluation Metrics"
   ]
  },
  {
   "cell_type": "code",
   "execution_count": null,
   "id": "610b66a6-2d9a-4121-8dc8-61c5566ba8cb",
   "metadata": {},
   "outputs": [],
   "source": [
    "from sklearn.model_selection import RandomizedSearchCV\n",
    "from sklearn.neighbors import KNeighborsClassifier\n",
    "from sklearn.linear_model import SGDClassifier\n",
    "from sklearn.ensemble import RandomForestClassifier\n",
    "import time\n",
    "import pandas as pd\n",
    "\n",
    "# Function to train model, track time, and print metrics\n",
    "def train_and_evaluate(model, X_train, y_train, X_test, y_test, model_name):\n",
    "    start_time = time.time()\n",
    "    model.fit(X_train, y_train)\n",
    "    training_time = time.time() - start_time\n",
    "    \n",
    "    y_pred = model.predict(X_test)\n",
    "    \n",
    "    print(f\"\\nMetrics for {model_name}:\")\n",
    "    print(f\"Training Time: {training_time:.2f} seconds\")\n",
    "    print(\"Accuracy:\", accuracy_score(y_test, y_pred))\n",
    "    print(\"Precision:\", precision_score(y_test, y_pred, average='macro'))\n",
    "    print(\"Recall:\", recall_score(y_test, y_pred, average='macro'))\n",
    "    print(\"F1 Score:\", f1_score(y_test, y_pred, average='macro'))\n",
    "    \n",
    "    return training_time, accuracy_score(y_test, y_pred), precision_score(y_test, y_pred, average='macro'), recall_score(y_test, y_pred, average='macro'), f1_score(y_test, y_pred, average='macro')\n",
    "\n",
    "\n",
    "# Step 1: K-Nearest Neighbors (KNN) with Hyperparameter Tuning\n",
    "knn_clf = KNeighborsClassifier()\n",
    "param_distribs_knn = {'n_neighbors': [3, 5, 7, 9], 'weights': ['uniform', 'distance']}\n",
    "rnd_search_knn = RandomizedSearchCV(knn_clf, param_distributions=param_distribs_knn, n_iter=5, cv=5, scoring='accuracy', random_state=42)\n",
    "knn_time, knn_accuracy, knn_precision, knn_recall, knn_f1 = train_and_evaluate(rnd_search_knn, X_train_small, y_train_small, X_test_scaled, y_test, \"K-Nearest Neighbors (Tuned)\")\n",
    "\n",
    "# Step 2: Stochastic Gradient Descent (SGD) with Hyperparameter Tuning\n",
    "sgd_clf = SGDClassifier(random_state=42)\n",
    "param_distribs_sgd = {'alpha': [0.0001, 0.001, 0.01], 'loss': ['hinge', 'log'], 'penalty': ['l2']}\n",
    "rnd_search_sgd = RandomizedSearchCV(sgd_clf, param_distributions=param_distribs_sgd, n_iter=5, cv=5, scoring='accuracy', random_state=42)\n",
    "sgd_time, sgd_accuracy, sgd_precision, sgd_recall, sgd_f1 = train_and_evaluate(rnd_search_sgd, X_train_small, y_train_small, X_test_scaled, y_test, \"Stochastic Gradient Descent (Tuned)\")\n",
    "\n",
    "# Step 3: Random Forest with Hyperparameter Tuning\n",
    "rf_clf = RandomForestClassifier(random_state=42)\n",
    "param_distribs_rf = {'n_estimators': [100, 200], 'max_depth': [10, 20, None], 'min_samples_split': [2, 5], 'min_samples_leaf': [1, 2]}\n",
    "rnd_search_rf = RandomizedSearchCV(rf_clf, param_distributions=param_distribs_rf, n_iter=5, cv=5, scoring='accuracy', random_state=42)\n",
    "rf_time, rf_accuracy, rf_precision, rf_recall, rf_f1 = train_and_evaluate(rnd_search_rf, X_train_small, y_train_small, X_test_scaled, y_test, \"Random Forest (Tuned)\")\n",
    "\n",
    "\n",
    "\n"
   ]
  },
  {
   "cell_type": "code",
   "execution_count": null,
   "id": "af1658b2-bde5-4754-a9f1-0618c8769efa",
   "metadata": {},
   "outputs": [],
   "source": [
    "# Step 5: Comparing computational complexity\n",
    "def train_and_time(model, X_train, y_train):\n",
    "    start_time = time.time()\n",
    "    model.fit(X_train, y_train)\n",
    "    end_time = time.time()\n",
    "    return end_time - start_time\n",
    "\n",
    "svm_poly_time = train_and_time(svm_best_poly, X_train_small, y_train_small)\n",
    "svm_rbf_time = train_and_time(svm_best_rbf, X_train_small, y_train_small)\n",
    "svm_linear_time = train_and_time(svm_best_linear, X_train_small, y_train_small)\n",
    "knn_time = train_and_time(knn_clf, X_train_small, y_train_small)\n",
    "sgd_time = train_and_time(sgd_clf, X_train_small, y_train_small)\n",
    "rf_time = train_and_time(rf_clf, X_train_small, y_train_small)\n",
    "\n",
    "print(\"\\nTraining times (in seconds):\")\n",
    "print(\"Polynomial SVM:\", svm_poly_time)\n",
    "print(\"RBF SVM:\", svm_rbf_time)\n",
    "print(\"Linear SVM:\", svm_linear_time)\n",
    "print(\"KNN:\", knn_time)\n",
    "print(\"SGD:\", sgd_time)\n",
    "print(\"Random Forest:\", rf_time)"
   ]
  },
  {
   "cell_type": "code",
   "execution_count": 12,
   "id": "7f118c08-f3f0-4861-84f4-438e5f74b7b1",
   "metadata": {},
   "outputs": [
    {
     "data": {
      "image/png": "[encoded data removed]",
      "text/plain": [
       "<Figure size 1000x600 with 1 Axes>"
      ]
     },
     "metadata": {},
     "output_type": "display_data"
    }
   ],
   "source": [
    "import matplotlib.pyplot as plt\n",
    "\n",
    "# Data\n",
    "classifiers = ['KNN', 'SGD', 'Random Forest', 'Linear SVM', 'Polynomial SVM', 'RBF SVM']\n",
    "training_times = [67.88, 694.20, 314.44, 376.18, 3989.50, 5117.16]\n",
    "\n",
    "# Create horizontal bar chart\n",
    "plt.figure(figsize=(10, 6))\n",
    "plt.barh(classifiers, training_times, color='skyblue')\n",
    "plt.xlabel('Training Time (s)')\n",
    "plt.ylabel('Models')\n",
    "plt.grid(axis='x')\n",
    "\n",
    "# Show the plot\n",
    "plt.show()\n"
   ]
  }
 ],
 "metadata": {
  "kernelspec": {
   "display_name": "Python 3 (ipykernel)",
   "language": "python",
   "name": "python3"
  },
  "language_info": {
   "codemirror_mode": {
    "name": "ipython",
    "version": 3
   },
   "file_extension": ".py",
   "mimetype": "text/x-python",
   "name": "python",
   "nbconvert_exporter": "python",
   "pygments_lexer": "ipython3",
   "version": "3.10.14"
  }
 },
 "nbformat": 4,
 "nbformat_minor": 5
}
