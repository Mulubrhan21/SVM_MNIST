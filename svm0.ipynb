{
  "nbformat": 4,
  "nbformat_minor": 0,
  "metadata": {
    "colab": {
      "provenance": [],
      "gpuType": "T4",
      "authorship_tag": "ABX9TyPK3yt+OPqePP+b1lDu0xK6",
      "include_colab_link": true
    },
    "kernelspec": {
      "name": "python3",
      "display_name": "Python 3"
    },
    "language_info": {
      "name": "python"
    },
    "accelerator": "GPU"
  },
  "cells": [
    {
      "cell_type": "markdown",
      "metadata": {
        "id": "view-in-github",
        "colab_type": "text"
      },
      "source": [
        "<a href=\"https://colab.research.google.com/github/Mulubrhan21/SVM_MNIST/blob/master/svm0.ipynb\" target=\"_parent\"><img src=\"https://colab.research.google.com/assets/colab-badge.svg\" alt=\"Open In Colab\"/></a>"
      ]
    },
    {
      "cell_type": "code",
      "execution_count": null,
      "metadata": {
        "colab": {
          "base_uri": "https://localhost:8080/"
        },
        "id": "5N1ki6vwnYFf",
        "outputId": "f21f6207-415a-4a36-d498-f87f43fec37c"
      },
      "outputs": [
        {
          "output_type": "stream",
          "name": "stdout",
          "text": [
            "Requirement already satisfied: scikit-learn in /usr/local/lib/python3.10/dist-packages (1.5.2)\n",
            "Requirement already satisfied: numpy>=1.19.5 in /usr/local/lib/python3.10/dist-packages (from scikit-learn) (1.26.4)\n",
            "Requirement already satisfied: scipy>=1.6.0 in /usr/local/lib/python3.10/dist-packages (from scikit-learn) (1.13.1)\n",
            "Requirement already satisfied: joblib>=1.2.0 in /usr/local/lib/python3.10/dist-packages (from scikit-learn) (1.4.2)\n",
            "Requirement already satisfied: threadpoolctl>=3.1.0 in /usr/local/lib/python3.10/dist-packages (from scikit-learn) (3.5.0)\n"
          ]
        }
      ],
      "source": [
        "!pip install scikit-learn\n"
      ]
    },
    {
      "cell_type": "code",
      "source": [
        "# Step 1: Import required libraries\n",
        "import numpy as np\n",
        "import pandas as pd\n",
        "from sklearn.datasets import fetch_openml\n",
        "from sklearn.model_selection import train_test_split, RandomizedSearchCV\n",
        "from sklearn.preprocessing import StandardScaler\n",
        "from sklearn.svm import SVC\n",
        "from sklearn.metrics import accuracy_score, precision_score, recall_score, f1_score\n"
      ],
      "metadata": {
        "id": "505qN-Kvnsby"
      },
      "execution_count": null,
      "outputs": []
    },
    {
      "cell_type": "code",
      "source": [
        "# Step 2: Check if GPU is available\n",
        "import tensorflow as tf\n",
        "print(\"GPU Available:\", tf.config.list_physical_devices('GPU'))\n"
      ],
      "metadata": {
        "colab": {
          "base_uri": "https://localhost:8080/"
        },
        "id": "zuwc8jRXnuYR",
        "outputId": "9aa653a4-6cc5-4767-aef9-3b3b41ee1c39"
      },
      "execution_count": null,
      "outputs": [
        {
          "output_type": "stream",
          "name": "stdout",
          "text": [
            "GPU Available: [PhysicalDevice(name='/physical_device:GPU:0', device_type='GPU')]\n"
          ]
        }
      ]
    },
    {
      "cell_type": "code",
      "source": [
        "\n",
        "# Step 3: Load the MNIST dataset\n",
        "mnist = fetch_openml('mnist_784', version=1)\n",
        "\n",
        "# Split data into features (X) and labels (y)\n",
        "X, y = mnist[\"data\"], mnist[\"target\"]\n",
        "\n",
        "# Convert the labels to integers\n",
        "y = y.astype(int)\n",
        "\n",
        "# Split the dataset into train and test sets\n",
        "X_train, X_test, y_train, y_test = train_test_split(X, y, test_size=0.2, random_state=42)\n",
        "\n",
        "# Standardize the data (SVM works better with normalized data)\n",
        "scaler = StandardScaler()\n",
        "X_train_scaled = scaler.fit_transform(X_train.astype(float))\n",
        "X_test_scaled = scaler.transform(X_test.astype(float))\n",
        "\n",
        "# Use smaller subset for faster training\n",
        "X_train_small = X_train_scaled[:20000]\n",
        "y_train_small = y_train[:20000]\n"
      ],
      "metadata": {
        "id": "kb5cdipCnvXp"
      },
      "execution_count": null,
      "outputs": []
    },
    {
      "cell_type": "code",
      "source": [
        "import time"
      ],
      "metadata": {
        "id": "-MP6oKC7qR5_"
      },
      "execution_count": null,
      "outputs": []
    },
    {
      "cell_type": "code",
      "source": [
        "# Function to print metrics along with training time\n",
        "def print_metrics_with_time(y_true, y_pred, model_name, training_time):\n",
        "    print(f\"\\nMetrics for {model_name}:\")\n",
        "    print(f\"Training Time: {training_time:.2f} seconds\")\n",
        "    print(\"Accuracy:\", accuracy_score(y_true, y_pred))\n",
        "    print(\"Precision:\", precision_score(y_true, y_pred, average='macro'))\n",
        "    print(\"Recall:\", recall_score(y_true, y_pred, average='macro'))\n",
        "    print(\"F1 Score:\", f1_score(y_true, y_pred, average='macro'))"
      ],
      "metadata": {
        "id": "BXh_PPhDsOW5"
      },
      "execution_count": null,
      "outputs": []
    },
    {
      "cell_type": "code",
      "source": [
        "# Step 4: Train SVM with Linear Kernel and Measure Training Time\n",
        "start_time = time.time()  # Start timer\n",
        "svm_linear = SVC(kernel='linear')\n",
        "param_distribs_linear = {'C': [0.01, 0.1, 1, 10]}\n",
        "rnd_search_linear = RandomizedSearchCV(svm_linear, param_distributions=param_distribs_linear, n_iter=10, cv=5, scoring='accuracy', random_state=42)\n",
        "rnd_search_linear.fit(X_train_small, y_train_small)\n",
        "training_time_linear = time.time() - start_time  # End timer\n",
        "\n",
        "y_pred_linear = rnd_search_linear.best_estimator_.predict(X_test_scaled)\n",
        "print_metrics_with_time(y_test, y_pred_linear, \"Linear SVM\", training_time_linear)"
      ],
      "metadata": {
        "colab": {
          "base_uri": "https://localhost:8080/"
        },
        "id": "9It4ihDGn76k",
        "outputId": "8f1c16bc-4983-4ec2-e5ca-3b42f1b8e778"
      },
      "execution_count": null,
      "outputs": [
        {
          "output_type": "stream",
          "name": "stderr",
          "text": [
            "/usr/local/lib/python3.10/dist-packages/sklearn/model_selection/_search.py:320: UserWarning: The total space of parameters 4 is smaller than n_iter=10. Running 4 iterations. For exhaustive searches, use GridSearchCV.\n",
            "  warnings.warn(\n"
          ]
        },
        {
          "output_type": "stream",
          "name": "stdout",
          "text": [
            "\n",
            "Metrics for Linear SVM:\n",
            "Training Time: 376.18 seconds\n",
            "Accuracy: 0.933\n",
            "Precision: 0.9326670149847098\n",
            "Recall: 0.9320346318218352\n",
            "F1 Score: 0.9321567684500461\n"
          ]
        }
      ]
    },
    {
      "cell_type": "code",
      "source": [
        "# Step 5: Train SVM with RBF Kernel and Measure Training Time\n",
        "start_time = time.time()  # Start timer\n",
        "svm_rbf = SVC(kernel='rbf')\n",
        "param_distribs_rbf = {'C': [0.01, 0.1, 1], 'gamma': [0.001, 0.01, 0.1]}\n",
        "rnd_search_rbf = RandomizedSearchCV(svm_rbf, param_distributions=param_distribs_rbf, n_iter=5, cv=5, scoring='accuracy', random_state=42)\n",
        "rnd_search_rbf.fit(X_train_small, y_train_small)\n",
        "training_time_rbf = time.time() - start_time  # End timer\n",
        "\n",
        "y_pred_rbf = rnd_search_rbf.best_estimator_.predict(X_test_scaled)\n",
        "print_metrics_with_time(y_test, y_pred_rbf, \"RBF SVM\", training_time_rbf)\n"
      ],
      "metadata": {
        "colab": {
          "base_uri": "https://localhost:8080/"
        },
        "id": "Fye3iCYToCfu",
        "outputId": "aea0e30a-71f9-4936-bb3e-556722d1629e"
      },
      "execution_count": null,
      "outputs": [
        {
          "output_type": "stream",
          "name": "stdout",
          "text": [
            "\n",
            "Metrics for RBF SVM:\n",
            "Training Time: 5117.16 seconds\n",
            "Accuracy: 0.7975\n",
            "Precision: 0.9095640656410193\n",
            "Recall: 0.794886686676984\n",
            "F1 Score: 0.8249618768282273\n"
          ]
        }
      ]
    },
    {
      "cell_type": "code",
      "source": [
        "# Step 6: Train SVM with Polynomial Kernel and Measure Training Time\n",
        "start_time = time.time()  # Start timer\n",
        "svm_poly = SVC(kernel='poly')\n",
        "param_distribs_poly = {'degree': [2, 3], 'C': [0.01, 0.1], 'coef0': [0.1, 1]}\n",
        "rnd_search_poly = RandomizedSearchCV(svm_poly, param_distributions=param_distribs_poly, n_iter=5, cv=5, scoring='accuracy', random_state=42)\n",
        "rnd_search_poly.fit(X_train_small, y_train_small)\n",
        "training_time_poly = time.time() - start_time  # End timer\n",
        "\n",
        "y_pred_poly = rnd_search_poly.best_estimator_.predict(X_test_scaled)\n",
        "print_metrics_with_time(y_test, y_pred_poly, \"Polynomial SVM\", training_time_poly)"
      ],
      "metadata": {
        "colab": {
          "base_uri": "https://localhost:8080/"
        },
        "id": "xqKUdu9gneRL",
        "outputId": "0aaa3649-0eb0-41c5-8de2-89742f735412"
      },
      "execution_count": null,
      "outputs": [
        {
          "output_type": "stream",
          "name": "stdout",
          "text": [
            "\n",
            "Metrics for Polynomial SVM:\n",
            "Training Time: 3989.50 seconds\n",
            "Accuracy: 0.9537142857142857\n",
            "Precision: 0.9535591837974742\n",
            "Recall: 0.9534272251561722\n",
            "F1 Score: 0.9534463513951517\n"
          ]
        }
      ]
    },
    {
      "cell_type": "code",
      "source": [
        "# Step 7: Evaluate the best models on the full test set\n",
        "svm_best_poly = rnd_search_poly.best_estimator_\n",
        "svm_best_rbf = rnd_search_rbf.best_estimator_\n",
        "svm_best_linear = rnd_search_linear.best_estimator_\n",
        "\n",
        "y_pred_poly = svm_best_poly.predict(X_test_scaled)\n",
        "y_pred_rbf = svm_best_rbf.predict(X_test_scaled)\n",
        "y_pred_linear = svm_best_linear.predict(X_test_scaled)\n",
        "\n",
        "\n"
      ],
      "metadata": {
        "id": "D0Bcl8iqn97R"
      },
      "execution_count": null,
      "outputs": []
    },
    {
      "cell_type": "code",
      "source": [
        "# Step 8: Function to print metrics\n",
        "# Function to print metrics along with training time\n",
        "def print_metrics_with_time(y_true, y_pred, model_name, training_time):\n",
        "    print(f\"\\nMetrics for {model_name}:\")\n",
        "    print(f\"Training Time: {training_time:.2f} seconds\")\n",
        "    print(\"Accuracy:\", accuracy_score(y_true, y_pred))\n",
        "    print(\"Precision:\", precision_score(y_true, y_pred, average='macro'))\n",
        "    print(\"Recall:\", recall_score(y_true, y_pred, average='macro'))\n",
        "    print(\"F1 Score:\", f1_score(y_true, y_pred, average='macro'))"
      ],
      "metadata": {
        "id": "2VTRJTzpneVE"
      },
      "execution_count": null,
      "outputs": []
    },
    {
      "cell_type": "code",
      "source": [
        "from sklearn.model_selection import RandomizedSearchCV\n",
        "from sklearn.neighbors import KNeighborsClassifier\n",
        "from sklearn.linear_model import SGDClassifier\n",
        "from sklearn.ensemble import RandomForestClassifier\n",
        "import time\n",
        "import pandas as pd\n",
        "\n",
        "# Function to train model, track time, and print metrics\n",
        "def train_and_evaluate(model, X_train, y_train, X_test, y_test, model_name):\n",
        "    start_time = time.time()\n",
        "    model.fit(X_train, y_train)\n",
        "    training_time = time.time() - start_time\n",
        "\n",
        "    y_pred = model.predict(X_test)\n",
        "\n",
        "    print(f\"\\nMetrics for {model_name}:\")\n",
        "    print(f\"Training Time: {training_time:.2f} seconds\")\n",
        "    print(\"Accuracy:\", accuracy_score(y_test, y_pred))\n",
        "    print(\"Precision:\", precision_score(y_test, y_pred, average='macro'))\n",
        "    print(\"Recall:\", recall_score(y_test, y_pred, average='macro'))\n",
        "    print(\"F1 Score:\", f1_score(y_test, y_pred, average='macro'))\n",
        "\n",
        "    return training_time, accuracy_score(y_test, y_pred), precision_score(y_test, y_pred, average='macro'), recall_score(y_test, y_pred, average='macro'), f1_score(y_test, y_pred, average='macro')\n",
        "\n",
        "\n",
        "# Step 1: K-Nearest Neighbors (KNN) with Hyperparameter Tuning\n",
        "knn_clf = KNeighborsClassifier()\n",
        "param_distribs_knn = {'n_neighbors': [3, 5, 7, 9], 'weights': ['uniform', 'distance']}\n",
        "rnd_search_knn = RandomizedSearchCV(knn_clf, param_distributions=param_distribs_knn, n_iter=5, cv=5, scoring='accuracy', random_state=42)\n",
        "knn_time, knn_accuracy, knn_precision, knn_recall, knn_f1 = train_and_evaluate(rnd_search_knn, X_train_small, y_train_small, X_test_scaled, y_test, \"K-Nearest Neighbors (Tuned)\")\n",
        "\n",
        "\n",
        "\n",
        "\n"
      ],
      "metadata": {
        "colab": {
          "base_uri": "https://localhost:8080/"
        },
        "id": "idlzwqcGneYM",
        "outputId": "5ba2948b-e48e-45ca-ff80-e470582990ea"
      },
      "execution_count": null,
      "outputs": [
        {
          "output_type": "stream",
          "name": "stdout",
          "text": [
            "\n",
            "Metrics for K-Nearest Neighbors (Tuned):\n",
            "Training Time: 67.88 seconds\n",
            "Accuracy: 0.9315\n",
            "Precision: 0.9319959218096432\n",
            "Recall: 0.930522769574945\n",
            "F1 Score: 0.9309212231348537\n"
          ]
        }
      ]
    },
    {
      "cell_type": "code",
      "source": [
        "# Step 2: Stochastic Gradient Descent (SGD) with Hyperparameter Tuning\n",
        "sgd_clf = SGDClassifier(random_state=42)\n",
        "param_distribs_sgd = {'alpha': [0.0001, 0.001, 0.01], 'loss': ['hinge', 'log'], 'penalty': ['l2']}\n",
        "rnd_search_sgd = RandomizedSearchCV(sgd_clf, param_distributions=param_distribs_sgd, n_iter=5, cv=5, scoring='accuracy', random_state=42)\n",
        "sgd_time, sgd_accuracy, sgd_precision, sgd_recall, sgd_f1 = train_and_evaluate(rnd_search_sgd, X_train_small, y_train_small, X_test_scaled, y_test, \"Stochastic Gradient Descent (Tuned)\")\n",
        "\n"
      ],
      "metadata": {
        "colab": {
          "base_uri": "https://localhost:8080/"
        },
        "id": "UyB30ljeneb0",
        "outputId": "9f128ad4-26e1-4899-b7b1-4d76dccf7f8c"
      },
      "execution_count": null,
      "outputs": [
        {
          "output_type": "stream",
          "name": "stderr",
          "text": [
            "/usr/local/lib/python3.10/dist-packages/sklearn/linear_model/_stochastic_gradient.py:744: ConvergenceWarning: Maximum number of iteration reached before convergence. Consider increasing max_iter to improve the fit.\n",
            "  warnings.warn(\n",
            "/usr/local/lib/python3.10/dist-packages/sklearn/linear_model/_stochastic_gradient.py:744: ConvergenceWarning: Maximum number of iteration reached before convergence. Consider increasing max_iter to improve the fit.\n",
            "  warnings.warn(\n",
            "/usr/local/lib/python3.10/dist-packages/sklearn/linear_model/_stochastic_gradient.py:744: ConvergenceWarning: Maximum number of iteration reached before convergence. Consider increasing max_iter to improve the fit.\n",
            "  warnings.warn(\n",
            "/usr/local/lib/python3.10/dist-packages/sklearn/linear_model/_stochastic_gradient.py:744: ConvergenceWarning: Maximum number of iteration reached before convergence. Consider increasing max_iter to improve the fit.\n",
            "  warnings.warn(\n",
            "/usr/local/lib/python3.10/dist-packages/sklearn/model_selection/_validation.py:540: FitFailedWarning: \n",
            "10 fits failed out of a total of 25.\n",
            "The score on these train-test partitions for these parameters will be set to nan.\n",
            "If these failures are not expected, you can try to debug them by setting error_score='raise'.\n",
            "\n",
            "Below are more details about the failures:\n",
            "--------------------------------------------------------------------------------\n",
            "10 fits failed with the following error:\n",
            "Traceback (most recent call last):\n",
            "  File \"/usr/local/lib/python3.10/dist-packages/sklearn/model_selection/_validation.py\", line 888, in _fit_and_score\n",
            "    estimator.fit(X_train, y_train, **fit_params)\n",
            "  File \"/usr/local/lib/python3.10/dist-packages/sklearn/base.py\", line 1466, in wrapper\n",
            "    estimator._validate_params()\n",
            "  File \"/usr/local/lib/python3.10/dist-packages/sklearn/base.py\", line 666, in _validate_params\n",
            "    validate_parameter_constraints(\n",
            "  File \"/usr/local/lib/python3.10/dist-packages/sklearn/utils/_param_validation.py\", line 95, in validate_parameter_constraints\n",
            "    raise InvalidParameterError(\n",
            "sklearn.utils._param_validation.InvalidParameterError: The 'loss' parameter of SGDClassifier must be a str among {'hinge', 'squared_hinge', 'perceptron', 'epsilon_insensitive', 'squared_error', 'log_loss', 'squared_epsilon_insensitive', 'modified_huber', 'huber'}. Got 'log' instead.\n",
            "\n",
            "  warnings.warn(some_fits_failed_message, FitFailedWarning)\n",
            "/usr/local/lib/python3.10/dist-packages/sklearn/model_selection/_search.py:1103: UserWarning: One or more of the test scores are non-finite: [0.90615     nan     nan 0.90625 0.89725]\n",
            "  warnings.warn(\n"
          ]
        },
        {
          "output_type": "stream",
          "name": "stdout",
          "text": [
            "\n",
            "Metrics for Stochastic Gradient Descent (Tuned):\n",
            "Training Time: 694.20 seconds\n",
            "Accuracy: 0.9046428571428572\n",
            "Precision: 0.9039282912612944\n",
            "Recall: 0.9037740328253081\n",
            "F1 Score: 0.9037362067859966\n"
          ]
        }
      ]
    },
    {
      "cell_type": "code",
      "source": [
        "# Step 3: Random Forest with Hyperparameter Tuning\n",
        "rf_clf = RandomForestClassifier(random_state=42)\n",
        "param_distribs_rf = {'n_estimators': [100, 200], 'max_depth': [10, 20, None], 'min_samples_split': [2, 5], 'min_samples_leaf': [1, 2]}\n",
        "rnd_search_rf = RandomizedSearchCV(rf_clf, param_distributions=param_distribs_rf, n_iter=5, cv=5, scoring='accuracy', random_state=42)\n",
        "rf_time, rf_accuracy, rf_precision, rf_recall, rf_f1 = train_and_evaluate(rnd_search_rf, X_train_small, y_train_small, X_test_scaled, y_test, \"Random Forest (Tuned)\")\n"
      ],
      "metadata": {
        "colab": {
          "base_uri": "https://localhost:8080/"
        },
        "id": "m1Y0dTVKneeM",
        "outputId": "2b15acdb-6e23-4e84-c05c-6cf4385aeee4"
      },
      "execution_count": null,
      "outputs": [
        {
          "output_type": "stream",
          "name": "stdout",
          "text": [
            "\n",
            "Metrics for Random Forest (Tuned):\n",
            "Training Time: 314.44 seconds\n",
            "Accuracy: 0.9577142857142857\n",
            "Precision: 0.9574767537798328\n",
            "Recall: 0.9573280294536926\n",
            "F1 Score: 0.9573774124356715\n"
          ]
        }
      ]
    },
    {
      "cell_type": "code",
      "source": [
        "# SVM Models\n",
        "\n",
        "# Step 4: Support Vector Machine (SVM) with Linear Kernel\n",
        "svm_best_linear = rnd_search_linear.best_estimator_  # Use the SVM model you trained earlier\n",
        "svm_linear_time, svm_linear_accuracy, svm_linear_precision, svm_linear_recall, svm_linear_f1 = train_and_evaluate(svm_best_linear, X_train_small, y_train_small, X_test_scaled, y_test, \"SVM (Linear Kernel)\")\n",
        "\n",
        "# Step 5: Support Vector Machine (SVM) with Polynomial Kernel\n",
        "svm_best_poly = rnd_search_poly.best_estimator_  # Use the Polynomial SVM model you trained earlier\n",
        "svm_poly_time, svm_poly_accuracy, svm_poly_precision, svm_poly_recall, svm_poly_f1 = train_and_evaluate(svm_best_poly, X_train_small, y_train_small, X_test_scaled, y_test, \"SVM (Polynomial Kernel)\")\n",
        "\n",
        "# Step 6: Support Vector Machine (SVM) with RBF Kernel\n",
        "svm_best_rbf = rnd_search_rbf.best_estimator_  # Use the RBF SVM model you trained earlier\n",
        "svm_rbf_time, svm_rbf_accuracy, svm_rbf_precision, svm_rbf_recall, svm_rbf_f1 = train_and_evaluate(svm_best_rbf, X_train_small, y_train_small, X_test_scaled, y_test, \"SVM (RBF Kernel)\")\n",
        "\n"
      ],
      "metadata": {
        "colab": {
          "base_uri": "https://localhost:8080/",
          "height": 349
        },
        "id": "j00mHg6xnegv",
        "outputId": "bf16bcbc-1cf5-4fce-a80b-99f2946d4af4"
      },
      "execution_count": null,
      "outputs": [
        {
          "output_type": "stream",
          "name": "stdout",
          "text": [
            "\n",
            "Metrics for SVM (Linear Kernel):\n",
            "Training Time: 18.12 seconds\n",
            "Accuracy: 0.933\n",
            "Precision: 0.9326670149847098\n",
            "Recall: 0.9320346318218352\n",
            "F1 Score: 0.9321567684500461\n"
          ]
        },
        {
          "output_type": "error",
          "ename": "AttributeError",
          "evalue": "'RandomizedSearchCV' object has no attribute 'best_estimator_'",
          "traceback": [
            "\u001b[0;31m---------------------------------------------------------------------------\u001b[0m",
            "\u001b[0;31mAttributeError\u001b[0m                            Traceback (most recent call last)",
            "\u001b[0;32m<ipython-input-20-b3ef0ac833a1>\u001b[0m in \u001b[0;36m<cell line: 8>\u001b[0;34m()\u001b[0m\n\u001b[1;32m      6\u001b[0m \u001b[0;34m\u001b[0m\u001b[0m\n\u001b[1;32m      7\u001b[0m \u001b[0;31m# Step 5: Support Vector Machine (SVM) with Polynomial Kernel\u001b[0m\u001b[0;34m\u001b[0m\u001b[0;34m\u001b[0m\u001b[0m\n\u001b[0;32m----> 8\u001b[0;31m \u001b[0msvm_best_poly\u001b[0m \u001b[0;34m=\u001b[0m \u001b[0mrnd_search_poly\u001b[0m\u001b[0;34m.\u001b[0m\u001b[0mbest_estimator_\u001b[0m  \u001b[0;31m# Use the Polynomial SVM model you trained earlier\u001b[0m\u001b[0;34m\u001b[0m\u001b[0;34m\u001b[0m\u001b[0m\n\u001b[0m\u001b[1;32m      9\u001b[0m \u001b[0msvm_poly_time\u001b[0m\u001b[0;34m,\u001b[0m \u001b[0msvm_poly_accuracy\u001b[0m\u001b[0;34m,\u001b[0m \u001b[0msvm_poly_precision\u001b[0m\u001b[0;34m,\u001b[0m \u001b[0msvm_poly_recall\u001b[0m\u001b[0;34m,\u001b[0m \u001b[0msvm_poly_f1\u001b[0m \u001b[0;34m=\u001b[0m \u001b[0mtrain_and_evaluate\u001b[0m\u001b[0;34m(\u001b[0m\u001b[0msvm_best_poly\u001b[0m\u001b[0;34m,\u001b[0m \u001b[0mX_train_small\u001b[0m\u001b[0;34m,\u001b[0m \u001b[0my_train_small\u001b[0m\u001b[0;34m,\u001b[0m \u001b[0mX_test_scaled\u001b[0m\u001b[0;34m,\u001b[0m \u001b[0my_test\u001b[0m\u001b[0;34m,\u001b[0m \u001b[0;34m\"SVM (Polynomial Kernel)\"\u001b[0m\u001b[0;34m)\u001b[0m\u001b[0;34m\u001b[0m\u001b[0;34m\u001b[0m\u001b[0m\n\u001b[1;32m     10\u001b[0m \u001b[0;34m\u001b[0m\u001b[0m\n",
            "\u001b[0;31mAttributeError\u001b[0m: 'RandomizedSearchCV' object has no attribute 'best_estimator_'"
          ]
        }
      ]
    },
    {
      "cell_type": "code",
      "source": [
        "# Create a summary table of the results\n",
        "results = pd.DataFrame({\n",
        "    'Model': ['K-Nearest Neighbors (Tuned)', 'Stochastic Gradient Descent (Tuned)', 'Random Forest (Tuned)', 'SVM (Linear Kernel)', 'SVM (Polynomial Kernel)', 'SVM (RBF Kernel)'],\n",
        "    'Training Time (s)': [knn_time, sgd_time, rf_time, svm_linear_time, svm_poly_time, svm_rbf_time],\n",
        "    'Accuracy': [knn_accuracy, sgd_accuracy, rf_accuracy, svm_linear_accuracy, svm_poly_accuracy, svm_rbf_accuracy],\n",
        "    'Precision': [knn_precision, sgd_precision, rf_precision, svm_linear_precision, svm_poly_precision, svm_rbf_precision],\n",
        "    'Recall': [knn_recall, sgd_recall, rf_recall, svm_linear_recall, svm_poly_recall, svm_rbf_recall],\n",
        "    'F1 Score': [knn_f1, sgd_f1, rf_f1, svm_linear_f1, svm_poly_f1, svm_rbf_f1]\n",
        "})\n",
        "\n",
        "# Print the summary table\n",
        "print(\"\\nComparison of Classifier Performance:\")\n",
        "print(results)"
      ],
      "metadata": {
        "id": "geR45S_-nejP"
      },
      "execution_count": null,
      "outputs": []
    },
    {
      "cell_type": "code",
      "source": [],
      "metadata": {
        "id": "J1eOlWtsnelW"
      },
      "execution_count": null,
      "outputs": []
    }
  ]
}